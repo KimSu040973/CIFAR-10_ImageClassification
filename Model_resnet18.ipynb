{
 "cells": [
  {
   "cell_type": "markdown",
   "metadata": {},
   "source": [
    "## gpu 사용 여부 확인"
   ]
  },
  {
   "cell_type": "code",
   "execution_count": 16,
   "metadata": {},
   "outputs": [
    {
     "name": "stdout",
     "output_type": "stream",
     "text": [
      "Fri Dec 11 15:46:51 2020       \n",
      "+-----------------------------------------------------------------------------+\n",
      "| NVIDIA-SMI 456.43       Driver Version: 456.43       CUDA Version: 11.1     |\n",
      "|-------------------------------+----------------------+----------------------+\n",
      "| GPU  Name            TCC/WDDM | Bus-Id        Disp.A | Volatile Uncorr. ECC |\n",
      "| Fan  Temp  Perf  Pwr:Usage/Cap|         Memory-Usage | GPU-Util  Compute M. |\n",
      "|===============================+======================+======================|\n",
      "|   0  GeForce GTX 105... WDDM  | 00000000:07:00.0  On |                  N/A |\n",
      "| 35%   31C    P5    N/A /  75W |    837MiB /  4096MiB |      1%      Default |\n",
      "+-------------------------------+----------------------+----------------------+\n",
      "                                                                               \n",
      "+-----------------------------------------------------------------------------+\n",
      "| Processes:                                                                  |\n",
      "|  GPU   GI   CI        PID   Type   Process name                  GPU Memory |\n",
      "|        ID   ID                                                   Usage      |\n",
      "|=============================================================================|\n",
      "|    0   N/A  N/A      1204    C+G   Insufficient Permissions        N/A      |\n",
      "|    0   N/A  N/A      7028    C+G   C:\\Windows\\explorer.exe         N/A      |\n",
      "|    0   N/A  N/A      9112    C+G   ...artMenuExperienceHost.exe    N/A      |\n",
      "|    0   N/A  N/A      9688    C+G   ...w5n1h2txyewy\\SearchUI.exe    N/A      |\n",
      "|    0   N/A  N/A     10188    C+G   ...es.TextInput.InputApp.exe    N/A      |\n",
      "|    0   N/A  N/A     10608    C+G   ...ekyb3d8bbwe\\YourPhone.exe    N/A      |\n",
      "|    0   N/A  N/A     11184    C+G   ...cw5n1h2txyewy\\LockApp.exe    N/A      |\n",
      "|    0   N/A  N/A     12156    C+G   ...s\\Win64\\EpicWebHelper.exe    N/A      |\n",
      "|    0   N/A  N/A     13740    C+G   ...d\\app-0.0.309\\Discord.exe    N/A      |\n",
      "|    0   N/A  N/A     14304    C+G   ...n64\\EpicGamesLauncher.exe    N/A      |\n",
      "|    0   N/A  N/A     16332    C+G   ...me\\Application\\chrome.exe    N/A      |\n",
      "|    0   N/A  N/A     16760      C   ...user\\anaconda3\\python.exe    N/A      |\n",
      "|    0   N/A  N/A     16972    C+G   ...b3d8bbwe\\WinStore.App.exe    N/A      |\n",
      "+-----------------------------------------------------------------------------+\n"
     ]
    }
   ],
   "source": [
    "!nvidia-smi"
   ]
  },
  {
   "cell_type": "markdown",
   "metadata": {},
   "source": [
    "## 라이브러리 import "
   ]
  },
  {
   "cell_type": "code",
   "execution_count": 154,
   "metadata": {},
   "outputs": [
    {
     "name": "stdout",
     "output_type": "stream",
     "text": [
      "Files already downloaded and verified\n",
      "Files already downloaded and verified\n",
      "10가지 카테고리\n",
      "('plane', 'car', 'bird', 'cat', 'deer', 'dog', 'frog', 'horse', 'ship', 'truck')\n"
     ]
    }
   ],
   "source": [
    "import torch\n",
    "import torch.nn as nn\n",
    "import torch.optim as optim\n",
    "from torch.optim import lr_scheduler\n",
    "import numpy as np\n",
    "import torchvision\n",
    "from torchvision import datasets, models, transforms\n",
    "import matplotlib.pyplot as plt\n",
    "import time\n",
    "import copy\n",
    "from urllib import request\n",
    "from PIL import Image\n",
    "import urllib.request\n",
    "\n",
    "\n",
    "transform = transforms.Compose([\n",
    "        transforms.Resize((224,244), interpolation=2),\n",
    "        transforms.ToTensor(),\n",
    "        transforms.Normalize((0.5, 0.5, 0.5), (0.5, 0.5, 0.5))\n",
    "    ])\n",
    "\n",
    "batch_size = 1 #보여주는 1장 이미지 \n",
    "\n",
    "trainset = torchvision.datasets.CIFAR10(root='./data', train=True, download=True, transform=transform)\n",
    "trainloader = torch.utils.data.DataLoader(dataset=trainset, batch_size=batch_size,\n",
    "                                          shuffle=True, num_workers=0)\n",
    "\n",
    "testset=torchvision.datasets.CIFAR10(root='./data', train=False, download=True, transform=transform)\n",
    "testloader = torch.utils.data.DataLoader(dataset=testset, batch_size=batch_size,\n",
    "                                         shuffle=False, num_workers=0)\n",
    "\n",
    "dataloaders = {'train' : trainloader, 'val' : testloader }\n",
    "dataset_sizes = { 'train' : len(trainset) , 'val' : len(testset) }\n",
    "\n",
    "class_names = ('plane', 'car', 'bird', 'cat','deer', 'dog', 'frog', 'horse', 'ship', 'truck')\n",
    "\n",
    "print(\"10가지 카테고리\")\n",
    "print(class_names)"
   ]
  },
  {
   "cell_type": "code",
   "execution_count": 146,
   "metadata": {},
   "outputs": [
    {
     "data": {
      "text/plain": [
       "device(type='cuda', index=0)"
      ]
     },
     "execution_count": 146,
     "metadata": {},
     "output_type": "execute_result"
    }
   ],
   "source": [
    "device = torch.device(\"cuda:0\" if torch.cuda.is_available() else \"cpu\") #GPU 사용가능 여부확인\n",
    "device"
   ]
  },
  {
   "cell_type": "markdown",
   "metadata": {},
   "source": [
    "## 일부 이미지 시각화"
   ]
  },
  {
   "cell_type": "code",
   "execution_count": 19,
   "metadata": {},
   "outputs": [
    {
     "name": "stdout",
     "output_type": "stream",
     "text": [
      "       bird         car        ship       horse\n"
     ]
    },
    {
     "data": {
      "image/png": "[encoded data removed]",
      "text/plain": [
       "<Figure size 432x288 with 1 Axes>"
      ]
     },
     "metadata": {
      "needs_background": "light"
     },
     "output_type": "display_data"
    }
   ],
   "source": [
    "def imshow(img):\n",
    "    img = img / 2 + 0.5     # unnormalize\n",
    "    npimg = img.numpy()\n",
    "    plt.imshow(np.transpose(npimg, (1, 2, 0)))\n",
    "\n",
    "dataiter = iter(trainloader)\n",
    "images, labels = dataiter.next()\n",
    "\n",
    "# 이미지 보여주기\n",
    "imshow(torchvision.utils.make_grid(images))\n",
    "# 정답(label) 출력\n",
    "print(' '.join('      %5s' % class_names[labels[j]] for j in range(4)))\n",
    "plt.show() # 4개 정도 이미지"
   ]
  },
  {
   "cell_type": "markdown",
   "metadata": {},
   "source": [
    "## 모델 정의하기_resnet18"
   ]
  },
  {
   "cell_type": "code",
   "execution_count": 20,
   "metadata": {},
   "outputs": [],
   "source": [
    "model_ft = models.resnet18(pretrained=True)\n",
    "num_ftrs = model_ft.fc.in_features"
   ]
  },
  {
   "cell_type": "code",
   "execution_count": 21,
   "metadata": {},
   "outputs": [],
   "source": [
    "model_ft.fc = nn.Linear(num_ftrs, 10).cuda()\n",
    "model_ft = model_ft.to(device)"
   ]
  },
  {
   "cell_type": "markdown",
   "metadata": {},
   "source": [
    "## 손실함수와 Optimizer 정의하기"
   ]
  },
  {
   "cell_type": "code",
   "execution_count": 22,
   "metadata": {},
   "outputs": [],
   "source": [
    "criterion = nn.CrossEntropyLoss()\n",
    "\n",
    "# Observe that all parameters are being optimized\n",
    "optimizer_ft = optim.SGD(model_ft.parameters(), lr=0.001, momentum=0.9)\n",
    "\n",
    "# Decay LR by a factor of 0.1 every 7 epochs\n",
    "exp_lr_scheduler = lr_scheduler.StepLR(optimizer_ft, step_size=7, gamma=0.1)"
   ]
  },
  {
   "cell_type": "markdown",
   "metadata": {},
   "source": [
    "## Training 신경망 학습"
   ]
  },
  {
   "cell_type": "code",
   "execution_count": 23,
   "metadata": {},
   "outputs": [
    {
     "name": "stdout",
     "output_type": "stream",
     "text": [
      "================Finished modeling\n"
     ]
    }
   ],
   "source": [
    "def train_model(model, criterion, optimizer, scheduler, num_epochs=20):\n",
    "    since = time.time() #시작 시간을 기록(총 소요 시간 계산을 위해)\n",
    "\n",
    "    best_model_wts = copy.deepcopy(model.state_dict())\n",
    "    best_acc = 0.0\n",
    "\n",
    "    for epoch in range(num_epochs):\n",
    "        print('Epoch {}/{}'.format(epoch, num_epochs - 1)) #epoch를 카운트\n",
    "        print('-' * 20)\n",
    "\n",
    "        # Each epoch has a training and validation phase\n",
    "        for phase in ['train', 'val']:  #train mode와 validation mode 순으로 진행\n",
    "            if phase == 'train':\n",
    "                scheduler.step()\n",
    "                model.train()  # Set model to training mode\n",
    "            else:\n",
    "                model.eval()   # Set model to evaluate mode\n",
    "\n",
    "            running_loss = 0.0\n",
    "            running_corrects = 0\n",
    "\n",
    "            # Iterate over data.\n",
    "            # dataloader로부터 dataset과 그에 해당되는 label을 불러온다.\n",
    "            for inputs, labels in dataloaders[phase]:  \n",
    "                inputs = inputs.to(device) #GPU로 입력데이터를 올림\n",
    "                labels = labels.to(device) #GPU로 label을 올림\n",
    "                # zero the parameter gradients\n",
    "                optimizer.zero_grad()  #Gradient를 0으로 초기화\n",
    "\n",
    "                # forward\n",
    "                # track history if only in train\n",
    "                with torch.set_grad_enabled(phase == 'train'):\n",
    "                    outputs = model(inputs).cuda()\n",
    "                    _, preds = torch.max(outputs, 1) \n",
    "                    # 마지막 layer에서 가장 값이 큰 1개의 class를 예측 값으로 지정\n",
    "                    loss = criterion(outputs, labels).cuda()\n",
    "                    \n",
    "                    # backward + optimize only if in training phase\n",
    "                    if phase == 'train': # training 모드에서는 weight를 update한다.\n",
    "                        loss.backward()\n",
    "                        optimizer.step()\n",
    "                    else:\n",
    "                        preds=preds.cpu()\n",
    "                # statistics\n",
    "                running_loss += loss.item() * inputs.size(0)\n",
    "                preds = preds.cuda()\n",
    "                running_corrects += torch.sum(preds == labels.data)\n",
    "\n",
    "            epoch_loss = running_loss / dataset_sizes[phase]\n",
    "            epoch_acc = running_corrects.double() / dataset_sizes[phase]\n",
    "\n",
    "            print('{} Loss: {:.4f} Acc: {:.4f}'.format(phase, epoch_loss, epoch_acc))\n",
    "\n",
    "            # deep copy the model\n",
    "            if phase == 'val' and epoch_acc > best_acc:\n",
    "                best_acc = epoch_acc\n",
    "                best_model_wts = copy.deepcopy(model.state_dict())\n",
    "\n",
    "        print()\n",
    "\n",
    "    time_elapsed = time.time() - since\n",
    "    print('Training complete in {:.0f}m {:.0f}s'.format(time_elapsed // 60, time_elapsed % 60))\n",
    "    print('Best val Acc: {:4f}'.format(best_acc))\n",
    "\n",
    "    # load best model weights\n",
    "    model.load_state_dict(best_model_wts)\n",
    "    return model\n"
   ]
  },
  {
   "cell_type": "code",
   "execution_count": 24,
   "metadata": {
    "scrolled": true
   },
   "outputs": [
    {
     "name": "stdout",
     "output_type": "stream",
     "text": [
      "Epoch 0/19\n",
      "--------------------\n"
     ]
    },
    {
     "name": "stderr",
     "output_type": "stream",
     "text": [
      "C:\\Users\\user\\anaconda3\\lib\\site-packages\\torch\\optim\\lr_scheduler.py:131: UserWarning: Detected call of `lr_scheduler.step()` before `optimizer.step()`. In PyTorch 1.1.0 and later, you should call them in the opposite order: `optimizer.step()` before `lr_scheduler.step()`.  Failure to do this will result in PyTorch skipping the first value of the learning rate schedule. See more details at https://pytorch.org/docs/stable/optim.html#how-to-adjust-learning-rate\n",
      "  warnings.warn(\"Detected call of `lr_scheduler.step()` before `optimizer.step()`. \"\n"
     ]
    },
    {
     "name": "stdout",
     "output_type": "stream",
     "text": [
      "train Loss: 0.7558 Acc: 0.7592\n",
      "val Loss: 0.3359 Acc: 0.8901\n",
      "\n",
      "Epoch 1/19\n",
      "--------------------\n",
      "train Loss: 0.3938 Acc: 0.8738\n",
      "val Loss: 0.2708 Acc: 0.9103\n",
      "\n",
      "Epoch 2/19\n",
      "--------------------\n",
      "train Loss: 0.2702 Acc: 0.9148\n",
      "val Loss: 0.2712 Acc: 0.9118\n",
      "\n",
      "Epoch 3/19\n",
      "--------------------\n",
      "train Loss: 0.2006 Acc: 0.9370\n",
      "val Loss: 0.2751 Acc: 0.9141\n",
      "\n",
      "Epoch 4/19\n",
      "--------------------\n",
      "train Loss: 0.1525 Acc: 0.9519\n",
      "val Loss: 0.2442 Acc: 0.9204\n",
      "\n",
      "Epoch 5/19\n",
      "--------------------\n",
      "train Loss: 0.1149 Acc: 0.9641\n",
      "val Loss: 0.2311 Acc: 0.9265\n",
      "\n",
      "Epoch 6/19\n",
      "--------------------\n",
      "train Loss: 0.0505 Acc: 0.9868\n",
      "val Loss: 0.1706 Acc: 0.9460\n",
      "\n",
      "Epoch 7/19\n",
      "--------------------\n",
      "train Loss: 0.0307 Acc: 0.9927\n",
      "val Loss: 0.1653 Acc: 0.9465\n",
      "\n",
      "Epoch 8/19\n",
      "--------------------\n",
      "train Loss: 0.0234 Acc: 0.9949\n",
      "val Loss: 0.1646 Acc: 0.9485\n",
      "\n",
      "Epoch 9/19\n",
      "--------------------\n",
      "train Loss: 0.0197 Acc: 0.9962\n",
      "val Loss: 0.1621 Acc: 0.9504\n",
      "\n",
      "Epoch 10/19\n",
      "--------------------\n",
      "train Loss: 0.0203 Acc: 0.9957\n",
      "val Loss: 0.1649 Acc: 0.9486\n",
      "\n",
      "Epoch 11/19\n",
      "--------------------\n",
      "train Loss: 0.0181 Acc: 0.9963\n",
      "val Loss: 0.1625 Acc: 0.9490\n",
      "\n",
      "Epoch 12/19\n",
      "--------------------\n",
      "train Loss: 0.0147 Acc: 0.9970\n",
      "val Loss: 0.1609 Acc: 0.9500\n",
      "\n",
      "Epoch 13/19\n",
      "--------------------\n",
      "train Loss: 0.0154 Acc: 0.9968\n",
      "val Loss: 0.1575 Acc: 0.9509\n",
      "\n",
      "Epoch 14/19\n",
      "--------------------\n",
      "train Loss: 0.0144 Acc: 0.9972\n",
      "val Loss: 0.1612 Acc: 0.9497\n",
      "\n",
      "Epoch 15/19\n",
      "--------------------\n",
      "train Loss: 0.0141 Acc: 0.9974\n",
      "val Loss: 0.1565 Acc: 0.9508\n",
      "\n",
      "Epoch 16/19\n",
      "--------------------\n",
      "train Loss: 0.0148 Acc: 0.9969\n",
      "val Loss: 0.1577 Acc: 0.9510\n",
      "\n",
      "Epoch 17/19\n",
      "--------------------\n",
      "train Loss: 0.0146 Acc: 0.9974\n",
      "val Loss: 0.1581 Acc: 0.9492\n",
      "\n",
      "Epoch 18/19\n",
      "--------------------\n",
      "train Loss: 0.0168 Acc: 0.9969\n",
      "val Loss: 0.1604 Acc: 0.9510\n",
      "\n",
      "Epoch 19/19\n",
      "--------------------\n",
      "train Loss: 0.0145 Acc: 0.9972\n",
      "val Loss: 0.1609 Acc: 0.9506\n",
      "\n",
      "Training complete in 256m 8s\n",
      "Best val Acc: 0.951000\n"
     ]
    }
   ],
   "source": [
    "model_ft = train_model(model_ft, criterion, optimizer_ft, exp_lr_scheduler,num_epochs=20)"
   ]
  },
  {
   "cell_type": "markdown",
   "metadata": {},
   "source": [
    "## 모델 저장하기"
   ]
  },
  {
   "cell_type": "code",
   "execution_count": 33,
   "metadata": {
    "scrolled": true
   },
   "outputs": [
    {
     "data": {
      "text/plain": [
       "['model18.pkl']"
      ]
     },
     "execution_count": 33,
     "metadata": {},
     "output_type": "execute_result"
    }
   ],
   "source": [
    "import joblib\n",
    "#model_ft.save('resnet18M.h5')\n",
    "joblib.dump(model_ft, 'resnet18M.h5')"
   ]
  },
  {
   "cell_type": "markdown",
   "metadata": {},
   "source": [
    "### gpu 메모리를 위한 작업"
   ]
  },
  {
   "cell_type": "code",
   "execution_count": 294,
   "metadata": {},
   "outputs": [
    {
     "data": {
      "text/plain": [
       "59812"
      ]
     },
     "execution_count": 294,
     "metadata": {},
     "output_type": "execute_result"
    }
   ],
   "source": [
    "import gc\n",
    "from tensorflow.keras.backend import clear_session\n",
    "\n",
    "del model_ft\n",
    "clear_session()\n",
    "gc.collect()"
   ]
  }
 ],
 "metadata": {
  "kernelspec": {
   "display_name": "Python 3",
   "language": "python",
   "name": "python3"
  },
  "language_info": {
   "codemirror_mode": {
    "name": "ipython",
    "version": 3
   },
   "file_extension": ".py",
   "mimetype": "text/x-python",
   "name": "python",
   "nbconvert_exporter": "python",
   "pygments_lexer": "ipython3",
   "version": "3.8.3"
  }
 },
 "nbformat": 4,
 "nbformat_minor": 4
}
